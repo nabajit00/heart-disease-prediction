{
 "cells": [
  {
   "cell_type": "code",
   "execution_count": 43,
   "id": "85c6460a",
   "metadata": {},
   "outputs": [],
   "source": [
    "import numpy as np\n",
    "import pandas as pd"
   ]
  },
  {
   "cell_type": "code",
   "execution_count": 44,
   "id": "79b8a597",
   "metadata": {},
   "outputs": [],
   "source": [
    "filepath=\"framingham.csv\"\n",
    "df_org=pd.read_csv(filepath)"
   ]
  },
  {
   "cell_type": "code",
   "execution_count": 45,
   "id": "8e058250",
   "metadata": {},
   "outputs": [],
   "source": [
    "class Model:\n",
    "    mx=None\n",
    "    mn=None\n",
    "    w=None\n",
    "    b=None\n",
    "    def save(self):\n",
    "        with open('model.txt','w') as fh:\n",
    "            s=''\n",
    "            for x in self.mx: s+=str(x)+' '\n",
    "            s+='\\n\\n'\n",
    "            for x in self.mn: s+=str(x)+' '\n",
    "            s+='\\n\\n'\n",
    "            for r in self.w:\n",
    "                for e in r:\n",
    "                    s+=str(e)+' '\n",
    "            s+='\\n\\n'\n",
    "            s+=str(b)\n",
    "            fh.write(s)\n",
    "    def normalize(self,data):\n",
    "        return (data-self.mn)/(self.mx-self.mn)\n",
    "\n",
    "model=Model()"
   ]
  },
  {
   "cell_type": "code",
   "execution_count": 46,
   "id": "a14936be",
   "metadata": {},
   "outputs": [],
   "source": [
    "#Data clean up\n",
    "df=df_org.dropna()\n",
    "new_df=df.drop(df[df['TenYearCHD']==0].sample(frac=0.8).index)\n",
    "\n",
    "dataset=new_df.to_numpy()\n",
    "\n",
    "np.random.shuffle(dataset)\n",
    "\n",
    "datasetX=dataset[:,0:-1]\n",
    "datasetY=dataset[:,-1]\n",
    "\n",
    "model.mn=np.min(datasetX,axis=0)\n",
    "model.mx=np.max(datasetX,axis=0)\n",
    "\n",
    "#normalize\n",
    "datasetX=model.normalize(datasetX)"
   ]
  },
  {
   "cell_type": "code",
   "execution_count": 47,
   "id": "d4fb92d2",
   "metadata": {},
   "outputs": [],
   "source": [
    "#Flatten dataset and divide it into sets\n",
    "\n",
    "flat_dataset_X=datasetX.reshape((datasetX.shape[0],-1)).T\n",
    "\n",
    "trainX,trainY = flat_dataset_X[:,100:],datasetY[100:]\n",
    "\n",
    "testX,testY=flat_dataset_X[:,:100],datasetY[:100]\n",
    "\n",
    "trainY=trainY.reshape(trainY.shape[0],1).T\n",
    "testY=testY.reshape(testY.shape[0],1).T"
   ]
  },
  {
   "cell_type": "code",
   "execution_count": 48,
   "id": "eb48f9c8",
   "metadata": {},
   "outputs": [],
   "source": [
    "def sigmoid(x):\n",
    "    return 1/(1+np.exp(-x))"
   ]
  },
  {
   "cell_type": "code",
   "execution_count": 49,
   "id": "7c6d3cc5",
   "metadata": {},
   "outputs": [],
   "source": [
    "def calc_cost(A,Y,m):\n",
    "    return -np.sum(Y*np.log(A)+(1-Y)*np.log(1-A))/m"
   ]
  },
  {
   "cell_type": "code",
   "execution_count": 50,
   "id": "c7f82e63",
   "metadata": {},
   "outputs": [],
   "source": [
    "def train(X,Y,alpha,itercount,print_cost,print_at=100,stored_cost_len=5000):\n",
    "    assert(X.shape[1]==Y.shape[1])\n",
    "    m=X.shape[1]\n",
    "    w=np.zeros((X.shape[0],1))\n",
    "    b=0.0\n",
    "    count=0\n",
    "    \n",
    "    costs=[]\n",
    "    \n",
    "    print(\"training...\")\n",
    "    for _ in range(itercount):\n",
    "        Z=np.dot(w.T,X)+b\n",
    "        A=sigmoid(Z)\n",
    "        \n",
    "        dZ=(A-Y)/m\n",
    "        dW=np.dot(X,dZ.T)\n",
    "        db=np.sum(dZ)\n",
    "        w=w-alpha*dW\n",
    "        b=b-alpha*db\n",
    "        \n",
    "        cost=calc_cost(A,Y,m)\n",
    "        if len(costs)==stored_cost_len:\n",
    "            costs.pop(0)\n",
    "        costs.append(cost)\n",
    "        \n",
    "        if print_cost:\n",
    "            if count%print_at==0:        \n",
    "                print(f\"Cost at iteration {count} = {cost}\")\n",
    "            count+=1\n",
    "        \n",
    "    print(\"finished...\")\n",
    "    print(\"Cost=\",cost)\n",
    "    return w,b,costs"
   ]
  },
  {
   "cell_type": "code",
   "execution_count": 51,
   "id": "947b27f7",
   "metadata": {
    "scrolled": true
   },
   "outputs": [
    {
     "name": "stdout",
     "output_type": "stream",
     "text": [
      "training...\n",
      "Cost at iteration 0 = 0.6931471805599452\n",
      "Cost at iteration 5000 = 0.6020063201654835\n",
      "Cost at iteration 10000 = 0.5999058663395035\n",
      "Cost at iteration 15000 = 0.5992177835896025\n",
      "Cost at iteration 20000 = 0.5988855168441009\n",
      "Cost at iteration 25000 = 0.5987055527044945\n",
      "Cost at iteration 30000 = 0.5986035962511852\n",
      "Cost at iteration 35000 = 0.5985444622282061\n",
      "Cost at iteration 40000 = 0.5985096628620958\n",
      "Cost at iteration 45000 = 0.5984889772428147\n",
      "Cost at iteration 50000 = 0.5984765883857485\n",
      "Cost at iteration 55000 = 0.5984691242548876\n",
      "Cost at iteration 60000 = 0.5984646051355327\n",
      "Cost at iteration 65000 = 0.5984618577309262\n",
      "Cost at iteration 70000 = 0.5984601815109609\n",
      "Cost at iteration 75000 = 0.5984591556806312\n",
      "Cost at iteration 80000 = 0.5984585261907038\n",
      "Cost at iteration 85000 = 0.598458138995422\n",
      "Cost at iteration 90000 = 0.5984579003356054\n",
      "Cost at iteration 95000 = 0.5984577529574995\n",
      "finished...\n",
      "Cost= 0.5984576618124069\n"
     ]
    }
   ],
   "source": [
    "w,b,costs=train(trainX,trainY,0.1,100000,True,print_at=5000,stored_cost_len=20000)\n",
    "model.w=w\n",
    "model.b=b"
   ]
  },
  {
   "cell_type": "code",
   "execution_count": 52,
   "id": "5dc6b97c",
   "metadata": {},
   "outputs": [],
   "source": [
    "model.save()"
   ]
  },
  {
   "cell_type": "code",
   "execution_count": 53,
   "id": "601e11ad",
   "metadata": {},
   "outputs": [],
   "source": [
    "import matplotlib.pyplot as plt"
   ]
  },
  {
   "cell_type": "code",
   "execution_count": 54,
   "id": "24fbeac3",
   "metadata": {},
   "outputs": [
    {
     "data": {
      "text/plain": [
       "Text(0.5, 1.0, 'last few costs')"
      ]
     },
     "execution_count": 54,
     "metadata": {},
     "output_type": "execute_result"
    },
    {
     "data": {
      "image/png": "[encoded data removed]",
      "text/plain": [
       "<Figure size 432x288 with 1 Axes>"
      ]
     },
     "metadata": {
      "needs_background": "light"
     },
     "output_type": "display_data"
    }
   ],
   "source": [
    "plot=plt.plot(costs)\n",
    "plt.title(\"last few costs\")"
   ]
  },
  {
   "cell_type": "code",
   "execution_count": 55,
   "id": "340c1180",
   "metadata": {},
   "outputs": [],
   "source": [
    "#TEST\n",
    "def test(X,Y,w,b):\n",
    "    Z=np.dot(w.T,X)+b\n",
    "    A=sigmoid(Z)\n",
    "    A=np.rint(A)\n",
    "    accuracy=np.sum(A==Y)/A.shape[1]\n",
    "    return 100*accuracy"
   ]
  },
  {
   "cell_type": "code",
   "execution_count": 56,
   "id": "42f56951",
   "metadata": {},
   "outputs": [
    {
     "name": "stdout",
     "output_type": "stream",
     "text": [
      "72.0 %\n",
      "67.40947075208913 %\n"
     ]
    }
   ],
   "source": [
    "print(test(testX,testY,w,b),\"%\")\n",
    "print(test(trainX,trainY,w,b),\"%\")"
   ]
  },
  {
   "cell_type": "code",
   "execution_count": 57,
   "id": "64bcc084",
   "metadata": {},
   "outputs": [
    {
     "data": {
      "text/plain": [
       "(array([620.,   0.,   0.,   0.,   0.,   0.,   0.,   0.,   0., 557.]),\n",
       " array([0. , 0.1, 0.2, 0.3, 0.4, 0.5, 0.6, 0.7, 0.8, 0.9, 1. ]),\n",
       " <BarContainer object of 10 artists>)"
      ]
     },
     "execution_count": 57,
     "metadata": {},
     "output_type": "execute_result"
    },
    {
     "data": {
      "image/png": "[encoded data removed]",
      "text/plain": [
       "<Figure size 432x288 with 1 Axes>"
      ]
     },
     "metadata": {
      "needs_background": "light"
     },
     "output_type": "display_data"
    }
   ],
   "source": [
    "plt.hist(datasetY)"
   ]
  },
  {
   "cell_type": "code",
   "execution_count": 58,
   "id": "eeb440fe",
   "metadata": {},
   "outputs": [
    {
     "data": {
      "text/plain": [
       "array([0, 1])"
      ]
     },
     "execution_count": 58,
     "metadata": {},
     "output_type": "execute_result"
    }
   ],
   "source": [
    "df['diabetes'].unique()"
   ]
  },
  {
   "cell_type": "code",
   "execution_count": 59,
   "id": "af8ef59f",
   "metadata": {},
   "outputs": [],
   "source": [
    "def single_input_test(arr,w,b):\n",
    "    assert(arr.shape==(trainX.shape[0],1) and w.shape==(trainX.shape[0],1))\n",
    "    arr=model.normalize(arr)\n",
    "    arr=arr.T\n",
    "    z=np.dot(w.T,arr)+b\n",
    "    a=sigmoid(z)\n",
    "    print(a)"
   ]
  },
  {
   "cell_type": "code",
   "execution_count": 60,
   "id": "62386746",
   "metadata": {},
   "outputs": [
    {
     "ename": "AssertionError",
     "evalue": "",
     "output_type": "error",
     "traceback": [
      "\u001b[0;31m---------------------------------------------------------------------------\u001b[0m",
      "\u001b[0;31mAssertionError\u001b[0m                            Traceback (most recent call last)",
      "\u001b[0;32m/tmp/ipykernel_2181/3939356879.py\u001b[0m in \u001b[0;36m<module>\u001b[0;34m\u001b[0m\n\u001b[1;32m      1\u001b[0m \u001b[0mx1\u001b[0m\u001b[0;34m=\u001b[0m\u001b[0mnp\u001b[0m\u001b[0;34m.\u001b[0m\u001b[0marray\u001b[0m\u001b[0;34m(\u001b[0m\u001b[0;34m[\u001b[0m\u001b[0;34m[\u001b[0m\u001b[0;36m1\u001b[0m\u001b[0;34m,\u001b[0m\u001b[0;36m39\u001b[0m\u001b[0;34m,\u001b[0m\u001b[0;36m4\u001b[0m\u001b[0;34m,\u001b[0m\u001b[0;36m0\u001b[0m\u001b[0;34m,\u001b[0m\u001b[0;36m0\u001b[0m\u001b[0;34m,\u001b[0m\u001b[0;36m0\u001b[0m\u001b[0;34m,\u001b[0m\u001b[0;36m0\u001b[0m\u001b[0;34m,\u001b[0m\u001b[0;36m0\u001b[0m\u001b[0;34m,\u001b[0m\u001b[0;36m0\u001b[0m\u001b[0;34m,\u001b[0m\u001b[0;36m195\u001b[0m\u001b[0;34m,\u001b[0m\u001b[0;36m106\u001b[0m\u001b[0;34m,\u001b[0m\u001b[0;36m70\u001b[0m\u001b[0;34m,\u001b[0m\u001b[0;36m26.97\u001b[0m\u001b[0;34m,\u001b[0m\u001b[0;36m80\u001b[0m\u001b[0;34m,\u001b[0m\u001b[0;36m77\u001b[0m\u001b[0;34m]\u001b[0m\u001b[0;34m]\u001b[0m\u001b[0;34m)\u001b[0m\u001b[0;34m\u001b[0m\u001b[0;34m\u001b[0m\u001b[0m\n\u001b[0;32m----> 2\u001b[0;31m \u001b[0msingle_input_test\u001b[0m\u001b[0;34m(\u001b[0m\u001b[0mx1\u001b[0m\u001b[0;34m,\u001b[0m\u001b[0mw\u001b[0m\u001b[0;34m,\u001b[0m\u001b[0mb\u001b[0m\u001b[0;34m)\u001b[0m\u001b[0;34m\u001b[0m\u001b[0;34m\u001b[0m\u001b[0m\n\u001b[0m\u001b[1;32m      3\u001b[0m \u001b[0mx2\u001b[0m\u001b[0;34m=\u001b[0m\u001b[0mnp\u001b[0m\u001b[0;34m.\u001b[0m\u001b[0marray\u001b[0m\u001b[0;34m(\u001b[0m\u001b[0;34m[\u001b[0m\u001b[0;34m[\u001b[0m\u001b[0;36m1\u001b[0m\u001b[0;34m,\u001b[0m\u001b[0;36m0.78947368\u001b[0m\u001b[0;34m,\u001b[0m\u001b[0;36m0\u001b[0m\u001b[0;34m,\u001b[0m\u001b[0;36m1\u001b[0m\u001b[0;34m,\u001b[0m\u001b[0;36m0.28571429\u001b[0m\u001b[0;34m,\u001b[0m\u001b[0;36m0\u001b[0m\u001b[0;34m,\u001b[0m\u001b[0;36m0\u001b[0m\u001b[0;34m,\u001b[0m\u001b[0;36m0\u001b[0m\u001b[0;34m,\u001b[0m\u001b[0;36m0\u001b[0m\u001b[0;34m,\u001b[0m\u001b[0;36m0.37371663\u001b[0m\u001b[0;34m,\u001b[0m\u001b[0;36m0.26241135\u001b[0m\u001b[0;34m,\u001b[0m\u001b[0;36m0.33862434\u001b[0m\u001b[0;34m,\u001b[0m\u001b[0;36m0.13911779\u001b[0m\u001b[0;34m,\u001b[0m\u001b[0;36m0.19191919\u001b[0m\u001b[0;34m,\u001b[0m\u001b[0;36m0.16101695\u001b[0m\u001b[0;34m]\u001b[0m\u001b[0;34m]\u001b[0m\u001b[0;34m)\u001b[0m\u001b[0;34m\u001b[0m\u001b[0;34m\u001b[0m\u001b[0m\n\u001b[1;32m      4\u001b[0m \u001b[0msingle_input_test\u001b[0m\u001b[0;34m(\u001b[0m\u001b[0mx2\u001b[0m\u001b[0;34m,\u001b[0m\u001b[0mw\u001b[0m\u001b[0;34m,\u001b[0m\u001b[0mb\u001b[0m\u001b[0;34m)\u001b[0m\u001b[0;34m\u001b[0m\u001b[0;34m\u001b[0m\u001b[0m\n",
      "\u001b[0;32m/tmp/ipykernel_2181/3709642038.py\u001b[0m in \u001b[0;36msingle_input_test\u001b[0;34m(arr, w, b)\u001b[0m\n\u001b[1;32m      1\u001b[0m \u001b[0;32mdef\u001b[0m \u001b[0msingle_input_test\u001b[0m\u001b[0;34m(\u001b[0m\u001b[0marr\u001b[0m\u001b[0;34m,\u001b[0m\u001b[0mw\u001b[0m\u001b[0;34m,\u001b[0m\u001b[0mb\u001b[0m\u001b[0;34m)\u001b[0m\u001b[0;34m:\u001b[0m\u001b[0;34m\u001b[0m\u001b[0;34m\u001b[0m\u001b[0m\n\u001b[0;32m----> 2\u001b[0;31m     \u001b[0;32massert\u001b[0m\u001b[0;34m(\u001b[0m\u001b[0marr\u001b[0m\u001b[0;34m.\u001b[0m\u001b[0mshape\u001b[0m\u001b[0;34m==\u001b[0m\u001b[0;34m(\u001b[0m\u001b[0mtrainX\u001b[0m\u001b[0;34m.\u001b[0m\u001b[0mshape\u001b[0m\u001b[0;34m[\u001b[0m\u001b[0;36m0\u001b[0m\u001b[0;34m]\u001b[0m\u001b[0;34m,\u001b[0m\u001b[0;36m1\u001b[0m\u001b[0;34m)\u001b[0m \u001b[0;32mand\u001b[0m \u001b[0mw\u001b[0m\u001b[0;34m.\u001b[0m\u001b[0mshape\u001b[0m\u001b[0;34m==\u001b[0m\u001b[0;34m(\u001b[0m\u001b[0mtrainX\u001b[0m\u001b[0;34m.\u001b[0m\u001b[0mshape\u001b[0m\u001b[0;34m[\u001b[0m\u001b[0;36m0\u001b[0m\u001b[0;34m]\u001b[0m\u001b[0;34m,\u001b[0m\u001b[0;36m1\u001b[0m\u001b[0;34m)\u001b[0m\u001b[0;34m)\u001b[0m\u001b[0;34m\u001b[0m\u001b[0;34m\u001b[0m\u001b[0m\n\u001b[0m\u001b[1;32m      3\u001b[0m     \u001b[0marr\u001b[0m\u001b[0;34m=\u001b[0m\u001b[0mmodel\u001b[0m\u001b[0;34m.\u001b[0m\u001b[0mnormalize\u001b[0m\u001b[0;34m(\u001b[0m\u001b[0marr\u001b[0m\u001b[0;34m)\u001b[0m\u001b[0;34m\u001b[0m\u001b[0;34m\u001b[0m\u001b[0m\n\u001b[1;32m      4\u001b[0m     \u001b[0marr\u001b[0m\u001b[0;34m=\u001b[0m\u001b[0marr\u001b[0m\u001b[0;34m.\u001b[0m\u001b[0mT\u001b[0m\u001b[0;34m\u001b[0m\u001b[0;34m\u001b[0m\u001b[0m\n\u001b[1;32m      5\u001b[0m     \u001b[0mz\u001b[0m\u001b[0;34m=\u001b[0m\u001b[0mnp\u001b[0m\u001b[0;34m.\u001b[0m\u001b[0mdot\u001b[0m\u001b[0;34m(\u001b[0m\u001b[0mw\u001b[0m\u001b[0;34m.\u001b[0m\u001b[0mT\u001b[0m\u001b[0;34m,\u001b[0m\u001b[0marr\u001b[0m\u001b[0;34m)\u001b[0m\u001b[0;34m+\u001b[0m\u001b[0mb\u001b[0m\u001b[0;34m\u001b[0m\u001b[0;34m\u001b[0m\u001b[0m\n",
      "\u001b[0;31mAssertionError\u001b[0m: "
     ]
    }
   ],
   "source": [
    "x1=np.array([[1,39,4,0,0,0,0,0,0,195,106,70,26.97,80,77]])\n",
    "single_input_test(x1,w,b)\n",
    "x2=np.array([[1,0.78947368,0,1,0.28571429,0,0,0,0,0.37371663,0.26241135,0.33862434,0.13911779,0.19191919,0.16101695]])\n",
    "single_input_test(x2,w,b)"
   ]
  },
  {
   "cell_type": "code",
   "execution_count": null,
   "id": "c124df02",
   "metadata": {},
   "outputs": [],
   "source": [
    "x1=np.array([[1,39,4,0,0,0,0,0,0,195,106,70,26.97,80,77]])\n",
    "print(x1.shape)\n",
    "b1=model.normalize(x1)\n",
    "print(b1.shape)"
   ]
  }
 ],
 "metadata": {
  "kernelspec": {
   "display_name": "Python 3 (ipykernel)",
   "language": "python",
   "name": "python3"
  },
  "language_info": {
   "codemirror_mode": {
    "name": "ipython",
    "version": 3
   },
   "file_extension": ".py",
   "mimetype": "text/x-python",
   "name": "python",
   "nbconvert_exporter": "python",
   "pygments_lexer": "ipython3",
   "version": "3.9.6"
  }
 },
 "nbformat": 4,
 "nbformat_minor": 5
}
